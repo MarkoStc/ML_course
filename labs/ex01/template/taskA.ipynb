{
 "cells": [
  {
   "cell_type": "code",
   "execution_count": null,
   "metadata": {
    "execution": {
     "iopub.execute_input": "2022-10-20T20:24:00.544096Z",
     "iopub.status.busy": "2022-10-20T20:24:00.543570Z",
     "iopub.status.idle": "2022-10-20T20:24:01.938198Z",
     "shell.execute_reply": "2022-10-20T20:24:01.937523Z"
    }
   },
   "outputs": [],
   "source": [
    "%matplotlib inline\n",
    "import numpy as np\n",
    "import matplotlib.pyplot as plt\n",
    "\n",
    "%load_ext autoreload\n",
    "%autoreload 2"
   ]
  },
  {
   "cell_type": "markdown",
   "execution_count": null,
   "metadata": {},
   "source": [
    "Data Generation\n",
    "==="
   ]
  },
  {
   "cell_type": "code",
   "execution_count": null,
   "metadata": {
    "execution": {
     "iopub.execute_input": "2022-10-20T20:24:01.941102Z",
     "iopub.status.busy": "2022-10-20T20:24:01.940901Z",
     "iopub.status.idle": "2022-10-20T20:24:01.958567Z",
     "shell.execute_reply": "2022-10-20T20:24:01.957826Z"
    }
   },
   "outputs": [],
   "source": [
    "num_samples, num_features = 10, 5"
   ]
  },
  {
   "cell_type": "code",
   "execution_count": null,
   "metadata": {
    "execution": {
     "iopub.execute_input": "2022-10-20T20:24:01.961617Z",
     "iopub.status.busy": "2022-10-20T20:24:01.961445Z",
     "iopub.status.idle": "2022-10-20T20:24:01.979349Z",
     "shell.execute_reply": "2022-10-20T20:24:01.978622Z"
    }
   },
   "outputs": [],
   "source": [
    "np.random.seed(10)\n",
    "data = np.random.rand(num_samples, num_features)"
   ]
  },
  {
   "cell_type": "markdown",
   "execution_count": null,
   "metadata": {},
   "source": [
    "Solution\n",
    "==="
   ]
  },
  {
   "cell_type": "code",
   "execution_count": null,
   "metadata": {
    "execution": {
     "iopub.execute_input": "2022-10-20T20:24:01.982400Z",
     "iopub.status.busy": "2022-10-20T20:24:01.982215Z",
     "iopub.status.idle": "2022-10-20T20:24:01.999803Z",
     "shell.execute_reply": "2022-10-20T20:24:01.999321Z"
    }
   },
   "outputs": [],
   "source": [
    "print(data)"
   ]
  },
  {
   "cell_type": "code",
   "execution_count": null,
   "metadata": {
    "execution": {
     "iopub.execute_input": "2022-10-20T20:24:02.021038Z",
     "iopub.status.busy": "2022-10-20T20:24:02.020824Z",
     "iopub.status.idle": "2022-10-20T20:24:02.039848Z",
     "shell.execute_reply": "2022-10-20T20:24:02.039139Z"
    }
   },
   "outputs": [],
   "source": [
    "def standardize(x):\n",
    "    \"\"\"fill your code in here...\"\"\"\n",
    "    centered_data = x - np.mean(x, axis=0)\n",
    "    std_data = centered_data / np.std(centered_data, axis=0)\n",
    "\n",
    "    return std_data\n",
    "\n",
    "\n",
    "std_data = standardize(data)"
   ]
  },
  {
   "cell_type": "code",
   "execution_count": null,
   "metadata": {
    "execution": {
     "iopub.execute_input": "2022-10-20T20:24:02.043025Z",
     "iopub.status.busy": "2022-10-20T20:24:02.042804Z",
     "iopub.status.idle": "2022-10-20T20:24:02.062209Z",
     "shell.execute_reply": "2022-10-20T20:24:02.061506Z"
    }
   },
   "outputs": [],
   "source": [
    "print(std_data, \"\\n\\n\", np.mean(std_data, axis=0), \"\\n\\n\", np.std(std_data, axis=0))"
   ]
  },
  {
   "cell_type": "code",
   "execution_count": null,
   "metadata": {},
   "outputs": [],
   "source": []
  }
 ],
 "metadata": {
  "language_info": {
   "codemirror_mode": {
    "name": "ipython",
    "version": 3
   },
   "file_extension": ".py",
   "mimetype": "text/x-python",
   "name": "python",
   "nbconvert_exporter": "python",
   "pygments_lexer": "ipython3",
   "version": "3.9.12"
  }
 },
 "nbformat": 4,
 "nbformat_minor": 1
}
