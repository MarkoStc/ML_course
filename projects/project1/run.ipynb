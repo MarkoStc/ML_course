{
 "cells": [
  {
   "cell_type": "code",
   "execution_count": 11,
   "id": "896f1094-9ac4-4de7-ad93-212061a8f05c",
   "metadata": {},
   "outputs": [],
   "source": [
    "import numpy as np\n",
    "from helpers import load_csv_data, create_csv_submission\n",
    "import matplotlib.pyplot as plt\n",
    "from imputation_methods import impute_median\n",
    "from scalers import NormalScaler\n",
    "from implementations import *\n",
    "\n",
    "data_path = \"data/dataset/\""
   ]
  },
  {
   "cell_type": "code",
   "execution_count": 2,
   "id": "e888c6c7-6e4e-4945-97f8-0fec4ad249e6",
   "metadata": {},
   "outputs": [],
   "source": [
    "data = load_csv_data(data_path)"
   ]
  },
  {
   "cell_type": "code",
   "execution_count": 3,
   "id": "ded7a472-dd3a-46c3-b1bf-39e769431a4f",
   "metadata": {},
   "outputs": [],
   "source": [
    "x_train, x_test, y_train, train_ids, test_ids = data"
   ]
  },
  {
   "cell_type": "code",
   "execution_count": 4,
   "id": "bbdb9d25-d3f2-4c69-b8a8-1c65a0e0bf73",
   "metadata": {},
   "outputs": [
    {
     "data": {
      "image/png": "[encoded data removed]",
      "text/plain": [
       "<Figure size 640x480 with 1 Axes>"
      ]
     },
     "metadata": {},
     "output_type": "display_data"
    }
   ],
   "source": [
    "plt.figure()\n",
    "plt.hist(y_train);\n",
    "plt.show()\n",
    "\n",
    "# should transform y_train into {0, 1}\n"
   ]
  },
  {
   "cell_type": "code",
   "execution_count": 5,
   "id": "14f05ad7-a3ef-4521-b7e5-fc0306b30d96",
   "metadata": {},
   "outputs": [],
   "source": [
    "# imputing with median\n",
    "x_train_imp = impute_median(x_train)"
   ]
  },
  {
   "cell_type": "code",
   "execution_count": 6,
   "id": "a8fe2e50-6e5f-4395-90d7-dc1b7ccee03f",
   "metadata": {},
   "outputs": [
    {
     "name": "stdout",
     "output_type": "stream",
     "text": [
      "(328135, 321)\n"
     ]
    }
   ],
   "source": [
    "# scaling\n",
    "\n",
    "scaler = NormalScaler()\n",
    "x_train_scaled = scaler.fit_scale(x_train_imp)\n",
    "print(x_train_scaled.shape)"
   ]
  },
  {
   "cell_type": "code",
   "execution_count": 23,
   "id": "0d56362f-17a5-4d73-9478-b202ba1b6aa8",
   "metadata": {},
   "outputs": [
    {
     "name": "stdout",
     "output_type": "stream",
     "text": [
      "(262508, 322)\n"
     ]
    }
   ],
   "source": [
    "from sklearn.model_selection import train_test_split\n",
    "y_train[y_train==-1] = 0\n",
    "tx_train_scaled = np.hstack((np.ones((len(x_train_scaled), 1)), x_train_scaled))\n",
    "x_tr, x_te, y_tr, y_te = train_test_split(tx_train_scaled, y_train, test_size=0.2)\n",
    "print(x_tr.shape)"
   ]
  },
  {
   "cell_type": "code",
   "execution_count": 54,
   "id": "0f300e14-5b6b-4f82-bd0c-e9b4bddcc38f",
   "metadata": {},
   "outputs": [],
   "source": [
    "N = 300\n",
    "w_init = np.zeros(N)\n",
    "w, loss = logistic_regression(y_tr, x_tr[:,:N], w_init, 10000, 0.2)"
   ]
  },
  {
   "cell_type": "code",
   "execution_count": 55,
   "id": "af5ac9d3-ef4c-4aa1-be2f-744a28074ee4",
   "metadata": {},
   "outputs": [
    {
     "data": {
      "text/plain": [
       "0.22839953064370375"
      ]
     },
     "execution_count": 55,
     "metadata": {},
     "output_type": "execute_result"
    }
   ],
   "source": [
    "compute_logistic_loss(y_te, x_te[:,:N], w)"
   ]
  },
  {
   "cell_type": "code",
   "execution_count": null,
   "id": "92606d46-6950-4006-a42e-c84429ac224a",
   "metadata": {},
   "outputs": [],
   "source": []
  }
 ],
 "metadata": {
  "kernelspec": {
   "display_name": "Python 3 (ipykernel)",
   "language": "python",
   "name": "python3"
  },
  "language_info": {
   "codemirror_mode": {
    "name": "ipython",
    "version": 3
   },
   "file_extension": ".py",
   "mimetype": "text/x-python",
   "name": "python",
   "nbconvert_exporter": "python",
   "pygments_lexer": "ipython3",
   "version": "3.12.5"
  }
 },
 "nbformat": 4,
 "nbformat_minor": 5
}
